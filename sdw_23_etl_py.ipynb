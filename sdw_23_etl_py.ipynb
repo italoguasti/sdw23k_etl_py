{
  "nbformat": 4,
  "nbformat_minor": 0,
  "metadata": {
    "colab": {
      "provenance": [],
      "authorship_tag": "ABX9TyPYXmxaulWxQzPZaX8IErcq",
      "include_colab_link": true
    },
    "kernelspec": {
      "name": "python3",
      "display_name": "Python 3"
    },
    "language_info": {
      "name": "python"
    }
  },
  "cells": [
    {
      "cell_type": "markdown",
      "metadata": {
        "id": "view-in-github",
        "colab_type": "text"
      },
      "source": [
        "<a href=\"https://colab.research.google.com/github/italoguasti/sdw23k_etl_py/blob/main/sdw_23_etl_py.ipynb\" target=\"_parent\"><img src=\"https://colab.research.google.com/assets/colab-badge.svg\" alt=\"Open In Colab\"/></a>"
      ]
    },
    {
      "cell_type": "markdown",
      "source": [
        "**ETL com Python | Santander Dev Week 23K**"
      ],
      "metadata": {
        "id": "a1NKGzRs9qFV"
      }
    },
    {
      "cell_type": "code",
      "execution_count": null,
      "metadata": {
        "id": "34ypawZQ9mh7"
      },
      "outputs": [],
      "source": [
        "# GET https://sdw-2023-prd.up.railway.app/users/{id}\n",
        "# PUT https://sdw-2023-prd.up.railway.app/users/{id}\n",
        "\n",
        "# Utilize sua própria URL se quiser ;)\n",
        "# Repositório da API: https://github.com/digitalinnovationone/santander-dev-week-2023-api\n",
        "sdw2023_api_url = 'https://sdw-2023-prd.up.railway.app'"
      ]
    },
    {
      "cell_type": "markdown",
      "source": [
        "### Extract\n",
        "\n",
        "Extraia a lista de IDs dos usuários a partir do arquivo CSV. Para cada ID, faça uma requisição GET para obter os dados dod usuário correspondente."
      ],
      "metadata": {
        "id": "Gv1e61FW-HjE"
      }
    },
    {
      "cell_type": "code",
      "source": [
        "import pandas as pd\n",
        "\n",
        "df = pd.read_csv('SDW2023.csv')\n",
        "user_ids = df['UserID'].tolist()\n",
        "print(user_ids)"
      ],
      "metadata": {
        "colab": {
          "base_uri": "https://localhost:8080/"
        },
        "id": "TlInX9qy-fhG",
        "outputId": "93fd09a5-366f-44b9-85d2-1cb646408ff9"
      },
      "execution_count": null,
      "outputs": [
        {
          "output_type": "stream",
          "name": "stdout",
          "text": [
            "[4, 5, 6]\n"
          ]
        }
      ]
    },
    {
      "cell_type": "code",
      "source": [
        "import requests\n",
        "import json\n",
        "\n",
        "def get_user(id):\n",
        "\tresponse = requests.get(f'{sdw2023_api_url}/{id}')\n",
        "\treturn response.json() if response.status_code == 200 else None\n",
        "\n",
        "users = [user for id in user_ids if (user := get_user(id) is not None)]\n",
        "print(json.dumps(users, indent=2))\n"
      ],
      "metadata": {
        "colab": {
          "base_uri": "https://localhost:8080/"
        },
        "id": "iX3HCkE9Cr9i",
        "outputId": "7493615d-59aa-417d-b373-79ded3f3b5fd"
      },
      "execution_count": null,
      "outputs": [
        {
          "output_type": "stream",
          "name": "stdout",
          "text": [
            "[]\n"
          ]
        }
      ]
    },
    {
      "cell_type": "markdown",
      "source": [
        "### Transform\n",
        "\n",
        "Utilize a API do OpenAI GPT-4 para gerar uma mensagem de marketing personalizada para cada usuário."
      ],
      "metadata": {
        "id": "ExqZjxau-3l9"
      }
    },
    {
      "cell_type": "code",
      "source": [
        "!pip install openai"
      ],
      "metadata": {
        "id": "L7jSEGIK-6_N"
      },
      "execution_count": null,
      "outputs": []
    },
    {
      "cell_type": "code",
      "source": [
        "import openai\n",
        "\n",
        "openai.api_key = 'api_key'\n",
        "\n",
        "def generate_ai_news(user):\n",
        "    completion = openai.ChatCompletion.create(\n",
        "        model=\"gpt-4\",\n",
        "        messages=[\n",
        "            {\n",
        "                \"role\": \"system\",\n",
        "                \"content\": \"Você é um especialista em markting bancário.\"\n",
        "            },\n",
        "            {\n",
        "                \"role\": \"user\",\n",
        "                \"content\": f\"Crie uma mensagem para {user['name']} sobre a importância dos investimentos (máximo de 100 caracteres)\"\n",
        "            }\n",
        "        ]\n",
        "    )\n",
        "    return completion.choices[0].message.content.strip('\\'')\n",
        "\n",
        "for user in users:\n",
        "    news = generate_ai_news(user)\n",
        "    print(news)"
      ],
      "metadata": {
        "id": "DWkoFgtEcMhg"
      },
      "execution_count": null,
      "outputs": []
    },
    {
      "cell_type": "markdown",
      "source": [
        "### Load\n",
        "\n",
        "Atualize a lista de 'news' de cada usuário na API com a nova mensagem gerada."
      ],
      "metadata": {
        "id": "__OhfwQU-8Fd"
      }
    },
    {
      "cell_type": "code",
      "source": [
        "def update_user(user):\n",
        "\tresponse = requests.put(f\"{sdw2023_api_url}/users/{user['id']}\", json=user)\n",
        "\treturn True if response.status_code == 200 else False\n",
        "\n",
        "for user in users:\n",
        "\tsuccess = update_user(user)\n",
        "\tprint(f\"User {user['name']} updated? {success}!\")\n"
      ],
      "metadata": {
        "id": "XsSzfiWF_Ajn"
      },
      "execution_count": null,
      "outputs": []
    }
  ]
}